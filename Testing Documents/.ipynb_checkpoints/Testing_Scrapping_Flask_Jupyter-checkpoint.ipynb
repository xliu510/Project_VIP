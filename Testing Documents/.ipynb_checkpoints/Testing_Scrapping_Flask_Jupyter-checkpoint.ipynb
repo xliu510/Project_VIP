{
 "cells": [
  {
   "cell_type": "code",
   "execution_count": 5,
   "metadata": {},
   "outputs": [],
   "source": [
    "from splinter import Browser\n",
    "from bs4 import BeautifulSoup as bs\n",
    "import time\n",
    "import urllib.request\n",
    "from urllib.request import urlopen\n"
   ]
  },
  {
   "cell_type": "code",
   "execution_count": 6,
   "metadata": {},
   "outputs": [],
   "source": [
    "# @NOTE: Replace the path with your actual path to the chromedriver\n",
    "\n",
    "def init_browser():\n",
    "    executable_path = {\"executable_path\": \"chromedriver.exe\"}\n",
    "    return Browser(\"chrome\", **executable_path, headless=False)\n"
   ]
  },
  {
   "cell_type": "markdown",
   "metadata": {},
   "source": [
    "**Scrapping Crypto News Website**"
   ]
  },
  {
   "cell_type": "code",
   "execution_count": 16,
   "metadata": {},
   "outputs": [],
   "source": [
    "browser = init_browser()\n",
    "\n",
    "crypto_currency_news = \"https://cointelegraph.com/tags/cryptocurrencies\"\n",
    "browser.visit(crypto_currency_news)\n",
    "\n",
    "time.sleep(1)\n",
    "\n",
    "# Scrape page into Soup\n",
    "html_crypto = browser.html\n",
    "soup_crypto = bs(html_crypto, \"html.parser\")\n",
    "\n",
    "# Geting headline\n",
    "news_full = soup_crypto.select(\".post-preview-item-inline__title-link\")\n",
    "\n",
    "news_title = [x.text for x in news_full][0]\n",
    "\n",
    "# # Getting paragraph\n",
    "# news_t = soup_nasa.select(\".slide\")\n",
    "\n",
    "# news_paragraph = [x.text for x in news_t][0]\n",
    "\n",
    "news_t = soup_crypto.select(\".post-preview-item-inline__text\")\n",
    "\n",
    "news_paragraph = [x.text for x in news_t][0]"
   ]
  },
  {
   "cell_type": "code",
   "execution_count": 17,
   "metadata": {},
   "outputs": [
    {
     "data": {
      "text/plain": [
       "'\\n              Analysts Warn That ‘Crypto Hangover’ Could Persist for AMD\\n            '"
      ]
     },
     "execution_count": 17,
     "metadata": {},
     "output_type": "execute_result"
    }
   ],
   "source": [
    "news_title"
   ]
  },
  {
   "cell_type": "code",
   "execution_count": 18,
   "metadata": {},
   "outputs": [
    {
     "data": {
      "text/plain": [
       "'Ahead of the release of AMD’s Q4 2018 report, some analysts predict that a “crypto hangover” could still be affecting the company’s revenues.'"
      ]
     },
     "execution_count": 18,
     "metadata": {},
     "output_type": "execute_result"
    }
   ],
   "source": [
    "news_paragraph"
   ]
  },
  {
   "cell_type": "code",
   "execution_count": null,
   "metadata": {},
   "outputs": [],
   "source": []
  }
 ],
 "metadata": {
  "anaconda-cloud": {},
  "kernelspec": {
   "display_name": "Python 3",
   "language": "python",
   "name": "python3"
  },
  "language_info": {
   "codemirror_mode": {
    "name": "ipython",
    "version": 3
   },
   "file_extension": ".py",
   "mimetype": "text/x-python",
   "name": "python",
   "nbconvert_exporter": "python",
   "pygments_lexer": "ipython3",
   "version": "3.6.5"
  }
 },
 "nbformat": 4,
 "nbformat_minor": 1
}
