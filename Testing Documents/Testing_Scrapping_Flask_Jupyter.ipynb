{
 "cells": [
  {
   "cell_type": "code",
   "execution_count": 1,
   "metadata": {},
   "outputs": [],
   "source": [
    "from splinter import Browser\n",
    "from bs4 import BeautifulSoup as bs\n",
    "import time\n",
    "import urllib.request\n",
    "from urllib.request import urlopen\n",
    "import re\n",
    "from bs4 import BeautifulSoup\n",
    "import requests\n",
    "import pandas as pd"
   ]
  },
  {
   "cell_type": "code",
   "execution_count": 2,
   "metadata": {},
   "outputs": [],
   "source": [
    "# @NOTE: Replace the path with your actual path to the chromedriver\n",
    "\n",
    "def init_browser():\n",
    "    executable_path = {\"executable_path\": \"chromedriver.exe\"}\n",
    "    return Browser(\"chrome\", **executable_path, headless=False)\n"
   ]
  },
  {
   "cell_type": "markdown",
   "metadata": {},
   "source": [
    "**Scrapping Crypto News Website**"
   ]
  },
  {
   "cell_type": "code",
   "execution_count": 3,
   "metadata": {},
   "outputs": [],
   "source": [
    "browser = init_browser()\n",
    "\n",
    "crypto_currency_news = \"https://cointelegraph.com/tags/cryptocurrencies\"\n",
    "browser.visit(crypto_currency_news)\n",
    "\n",
    "time.sleep(1)\n",
    "\n",
    "# Scrape page into Soup\n",
    "html_crypto = browser.html\n",
    "soup_crypto = bs(html_crypto, \"html.parser\")\n",
    "\n",
    "# Geting headline\n",
    "news_full = soup_crypto.select(\".post-preview-item-inline__title-link\")\n",
    "\n",
    "news_title = [x.text for x in news_full][0]\n",
    "\n",
    "# # Getting paragraph\n",
    "# news_t = soup_nasa.select(\".slide\")\n",
    "\n",
    "# news_paragraph = [x.text for x in news_t][0]\n",
    "\n",
    "news_t = soup_crypto.select(\".post-preview-item-inline__text\")\n",
    "\n",
    "news_paragraph = [x.text for x in news_t][0]\n",
    "\n",
    "\n",
    "\n"
   ]
  },
  {
   "cell_type": "code",
   "execution_count": 4,
   "metadata": {},
   "outputs": [
    {
     "data": {
      "text/plain": [
       "'\\n              Report: New Zealand Cryptopia Exchange Hack Continues\\n            '"
      ]
     },
     "execution_count": 4,
     "metadata": {},
     "output_type": "execute_result"
    }
   ],
   "source": [
    "news_title"
   ]
  },
  {
   "cell_type": "code",
   "execution_count": 5,
   "metadata": {},
   "outputs": [
    {
     "data": {
      "text/plain": [
       "'The hacker who breached New Zealand-based crypto exchange Cryptopia reportedly still has access to the exchange’s wallets.'"
      ]
     },
     "execution_count": 5,
     "metadata": {},
     "output_type": "execute_result"
    }
   ],
   "source": [
    "news_paragraph"
   ]
  },
  {
   "cell_type": "code",
   "execution_count": 6,
   "metadata": {},
   "outputs": [],
   "source": [
    "browser = init_browser()\n",
    "\n",
    "crypto_currency_news = \"https://cointelegraph.com/tags/cryptocurrencies\"\n",
    "browser.visit(crypto_currency_news)\n",
    "\n",
    "time.sleep(1)\n",
    "\n",
    "# Scrape page into Soup\n",
    "html_crypto = browser.html\n",
    "soup_crypto = bs(html_crypto, \"html.parser\")\n",
    "\n",
    "# Geting headline\n",
    "news_full = soup_crypto.select(\".post-preview-item-inline__title-link\")\n",
    "\n",
    "test = [x.text for x in news_full][0]\n",
    "\n"
   ]
  },
  {
   "cell_type": "code",
   "execution_count": 7,
   "metadata": {},
   "outputs": [
    {
     "data": {
      "text/plain": [
       "'\\n              Report: New Zealand Cryptopia Exchange Hack Continues\\n            '"
      ]
     },
     "execution_count": 7,
     "metadata": {},
     "output_type": "execute_result"
    }
   ],
   "source": [
    "test"
   ]
  },
  {
   "cell_type": "code",
   "execution_count": 8,
   "metadata": {},
   "outputs": [
    {
     "name": "stdout",
     "output_type": "stream",
     "text": [
      "mailto:filmfolk@example.org\n",
      "http://www.sundance.org\n",
      "http://www.tropfest.com\n",
      "http://sxsw.com\n",
      "http://www.londonindependent.org\n",
      "http://www.festival-cannes.com\n",
      "http://www.sff.org.au\n",
      "http://www.miff.com.au\n",
      "http://www.nzff.co.nz\n",
      "http://www.labiennale.org/en/cinema\n",
      "http://www.bfi.org.uk/lff/\n",
      "http://www.idfa.nl/industry.aspx\n",
      "http://whistlerfilmfestival.com\n",
      "about.html\n",
      "#top\n"
     ]
    }
   ],
   "source": [
    "\n",
    "url = \"http://www.htmlandcssbook.com/code-samples/chapter-04/example.html\"\n",
    "\n",
    "# Getting the webpage, creating a Response object.\n",
    "response = requests.get(url)\n",
    "\n",
    "# Extracting the source code of the page.\n",
    "data = response.text\n",
    "\n",
    "# Passing the source code to BeautifulSoup to create a BeautifulSoup object for it.\n",
    "soup = BeautifulSoup(data, 'lxml')\n",
    "\n",
    "# Extracting all the <a> tags into a list.\n",
    "tags = soup.find_all('a')\n",
    "\n",
    "# Extracting URLs from the attribute href in the <a> tags.\n",
    "for tag in tags:\n",
    "    print(tag.get('href'))"
   ]
  },
  {
   "cell_type": "code",
   "execution_count": 9,
   "metadata": {},
   "outputs": [
    {
     "name": "stdout",
     "output_type": "stream",
     "text": [
      "https://cointelegraph.com/news/report-new-zealand-cryptopia-exchange-hack-continues\n",
      "https://cointelegraph.com/news/gemini-crypto-exchange-undergoes-security-compliance-and-data-protection-audit\n",
      "https://cointelegraph.com/news/worlds-largest-gun-auction-site-gunbrokercom-to-add-stablecoin-freedomcoin\n",
      "https://cointelegraph.com/news/ukrainian-crypto-exchange-liqui-shuts-down-cites-lack-of-liquidity\n",
      "https://cointelegraph.com/news/us-congress-passes-bill-to-require-study-of-crypto-in-sex-drug-trafficking\n"
     ]
    }
   ],
   "source": [
    "\n",
    "url = \"https://cointelegraph.com/tags/cryptocurrencies\"\n",
    "\n",
    "# Getting the webpage, creating a Response object.\n",
    "response = requests.get(url)\n",
    "\n",
    "# Extracting the source code of the page.\n",
    "data = response.text\n",
    "\n",
    "# Passing the source code to BeautifulSoup to create a BeautifulSoup object for it.\n",
    "soup = BeautifulSoup(data, 'lxml')\n",
    "\n",
    "# Extracting all the <a> tags into a list.\n",
    "tags = soup.select('.post-preview-item-inline__title-link')\n",
    "\n",
    "# Extracting URLs from the attribute href in the <a> tags.\n",
    "for tag in tags[0:5]:\n",
    "    print(tag.get(\"href\"))"
   ]
  },
  {
   "cell_type": "code",
   "execution_count": 14,
   "metadata": {},
   "outputs": [],
   "source": [
    "link0 = tags[0].get(\"href\")"
   ]
  },
  {
   "cell_type": "code",
   "execution_count": 15,
   "metadata": {},
   "outputs": [
    {
     "name": "stdout",
     "output_type": "stream",
     "text": [
      "https://cointelegraph.com/news/report-new-zealand-cryptopia-exchange-hack-continues\n"
     ]
    }
   ],
   "source": [
    "print (link0)"
   ]
  },
  {
   "cell_type": "code",
   "execution_count": 16,
   "metadata": {},
   "outputs": [],
   "source": [
    "link1 = tags[1].get(\"href\")"
   ]
  },
  {
   "cell_type": "code",
   "execution_count": 17,
   "metadata": {},
   "outputs": [
    {
     "name": "stdout",
     "output_type": "stream",
     "text": [
      "https://cointelegraph.com/news/gemini-crypto-exchange-undergoes-security-compliance-and-data-protection-audit\n"
     ]
    }
   ],
   "source": [
    "print (link1)"
   ]
  },
  {
   "cell_type": "code",
   "execution_count": 45,
   "metadata": {},
   "outputs": [],
   "source": [
    "link_list = [tag.get(\"href\") for tag in tags[0:5]]"
   ]
  },
  {
   "cell_type": "code",
   "execution_count": 46,
   "metadata": {},
   "outputs": [
    {
     "data": {
      "text/plain": [
       "'https://cointelegraph.com/news/bitcoin-stays-over-3-600-as-most-top-cryptos-see-slight-gains'"
      ]
     },
     "execution_count": 46,
     "metadata": {},
     "output_type": "execute_result"
    }
   ],
   "source": [
    "link_list[0]"
   ]
  },
  {
   "cell_type": "code",
   "execution_count": null,
   "metadata": {},
   "outputs": [],
   "source": []
  },
  {
   "cell_type": "code",
   "execution_count": null,
   "metadata": {},
   "outputs": [],
   "source": [
    "https://www.alphavantage.co/query?function=DIGITAL_CURRENCY_DAILY&symbol=BTC&market=USD&apikey=D6YWTVPRSE9RQ4XC&datatype=csv"
   ]
  },
  {
   "cell_type": "code",
   "execution_count": 60,
   "metadata": {},
   "outputs": [],
   "source": [
    "api_key = \"D6YWTVPRSE9RQ4XC\""
   ]
  },
  {
   "cell_type": "code",
   "execution_count": 61,
   "metadata": {},
   "outputs": [],
   "source": [
    "# cryptocurrency tickers\n",
    "crypto_tickers = [\"BTC\", \"ETH\", \"LTC\"]"
   ]
  },
  {
   "cell_type": "code",
   "execution_count": 66,
   "metadata": {},
   "outputs": [],
   "source": [
    "# pulling Cryptocurrency raw data\n",
    "\n",
    "for i in crypto_tickers:\n",
    "    url_crypto = f\"https://www.alphavantage.co/query?function=DIGITAL_CURRENCY_DAILY&symbol={i}&market=USD&apikey={api_key}&datatype=csv\"\n",
    "    df = pd.read_csv(url_crypto)\n",
    "    df.to_csv('example.csv')\n"
   ]
  },
  {
   "cell_type": "code",
   "execution_count": 59,
   "metadata": {},
   "outputs": [
    {
     "name": "stdout",
     "output_type": "stream",
     "text": [
      "     timestamp    open (CNY)     high (CNY)     low (CNY)   close (CNY)  \\\n",
      "0   2019-01-25  28406.428399   30860.382467  26131.385202  26705.943113   \n",
      "1   2018-12-31  28246.919824   32195.859639  21952.410985  28377.062685   \n",
      "2   2018-11-30  44250.894257   45993.183437  26131.070331  28191.572209   \n",
      "3   2018-10-31  46006.262470   46516.166020  43554.343162  44250.860142   \n",
      "4   2018-09-30  48241.340273   51209.618567  42910.430879  45666.053545   \n",
      "5   2018-08-31  52709.995137   52724.944564  41621.392355  48557.167198   \n",
      "6   2018-07-31  42542.116794   56585.192157  40931.732174  52807.369913   \n",
      "7   2018-06-30  48365.589022   50031.418330  38822.058066  42553.966546   \n",
      "8   2018-05-31  59180.402186   63882.118066  46220.549562  48357.954417   \n",
      "9   2018-04-30  45800.647154   60638.188228  42638.689162  59180.402186   \n",
      "10  2018-03-31  68283.893872   74322.043518  45436.582046  45794.783347   \n",
      "11  2018-02-28  76049.127000   76049.127000  52265.013751  68284.465787   \n",
      "12  2018-01-31  90677.950560  113810.834780  72939.339596  76049.127000   \n",
      "13  2017-12-31  70038.803825  144284.800000  62186.777510  90677.950560   \n",
      "14  2017-11-30  40403.231080   72143.532115  40403.231080  70038.803825   \n",
      "15  2017-10-31  26935.779514   40463.949896  26684.601369  40403.214637   \n",
      "16  2017-09-30  29769.961527   32186.286272  16703.056151  26976.497585   \n",
      "17  2017-08-31  19379.771950   30133.773504  17917.377122  29814.969417   \n",
      "18  2017-07-31  17952.343883   19642.557575  12981.235775  19355.792583   \n",
      "19  2017-06-30  16020.888581   21016.434579  16020.888581  17958.448254   \n",
      "20  2017-05-31   8056.639027   19047.422730   8056.639027  16005.064524   \n",
      "21  2017-04-30   6873.443067    8061.383570   6832.203090   8061.383570   \n",
      "22  2017-03-31   7931.080862    8526.141747   6205.652022   6878.480874   \n",
      "23  2017-02-28   6682.178733    8065.809644   6336.125742   7942.921007   \n",
      "24  2017-01-31   6837.024855    8896.430657   4944.835391   6699.895436   \n",
      "25  2016-12-31   5226.771295    6961.046600   5226.771295   6843.139824   \n",
      "26  2016-11-30   4813.810013    5388.906260   4553.594191   5226.026571   \n",
      "27  2016-10-31   4076.861026    4941.095130   4063.492643   4801.889762   \n",
      "28  2016-09-30   3853.642725    4198.760571   3816.032778   4077.923224   \n",
      "29  2016-08-31   4136.639362    4170.356968   3302.557229   3852.407294   \n",
      "30  2016-07-31   4499.174419    4736.317478   4088.771387   4137.223971   \n",
      "31  2016-06-30   3581.554301    5155.450858   3528.410314   4503.636688   \n",
      "32  2016-05-31   2892.570131    3951.883906   2859.383544   3577.868659   \n",
      "33  2016-04-30   2694.582875    3026.813194   2649.356541   2892.581509   \n",
      "34  2016-03-31   2923.194134    2927.587165   2610.835652   2697.239824   \n",
      "35  2016-02-29   2472.170980    2987.611140   2469.182326   2925.466639   \n",
      "36  2016-01-31   2818.503841    3057.899586   2361.658897   2464.626906   \n",
      "37  2015-12-31   2460.504075    3124.268949   2242.406917   2819.036617   \n",
      "38  2015-11-30   2171.229382    3318.990643   1875.621920   2462.968044   \n",
      "39  2015-10-31   1526.485153    2287.938130   1525.568278   2170.349837   \n",
      "40  2015-09-30   1468.944525    1570.756668   1438.082859   1526.566601   \n",
      "41  2015-08-31   1759.234867    1770.861813   1295.228207   1468.384577   \n",
      "42  2015-07-31   1631.822561    2015.377065   1556.160885   1759.904895   \n",
      "43  2015-06-30   1435.752736    1666.884729   1373.739731   1631.097815   \n",
      "44  2015-05-31   1451.418698    1538.179340   1414.612016   1435.166792   \n",
      "45  2015-04-30   1511.667822    1618.097988   1301.862051   1452.413469   \n",
      "46  2015-03-31   1598.519789    1878.940924   1449.220951   1511.773545   \n",
      "47  2015-02-28   1345.809173    1660.747531   1310.966118   1599.118236   \n",
      "48  2015-01-31   1971.839065    1971.839065    978.704395   1349.911538   \n",
      "49  2014-12-31   2319.445929    2375.287271   1884.647573   1971.550866   \n",
      "50  2014-11-30   2068.836868    2951.518678   1958.276065   2316.428233   \n",
      "51  2014-10-31   2383.698451    2494.490644   1833.218678   2069.368817   \n",
      "52  2014-09-30   2936.743844    3028.392077   2285.584543   2382.579402   \n",
      "53  2014-08-31   3604.930470    3725.908591   2767.123608   2935.822293   \n",
      "54  2014-07-31   3983.553862    4079.114600   3473.446075   3599.503774   \n",
      "55  2014-06-30   3920.938893    4181.622944   3469.120613   3977.874035   \n",
      "56  2014-05-31   2795.333037    3910.519083   2581.584276   3907.942301   \n",
      "\n",
      "      open (USD)    high (USD)     low (USD)   close (USD)        volume  \\\n",
      "0    4129.703833   4503.061835   3798.994629   3957.227363  7.518164e+04   \n",
      "1    4059.048689   4667.757987   3178.008391   4125.434669  6.189078e+04   \n",
      "2    6343.577599   6634.525336   3760.748252   4051.095302  3.571079e+04   \n",
      "3    6697.762738   6735.678824   6286.659738   6343.572708  1.149236e+05   \n",
      "4    7062.946952   7491.568993   6266.072018   6648.233858  1.150096e+05   \n",
      "5    7735.259953   7739.214198   6046.573966   7109.186729  1.215200e+05   \n",
      "6    6424.069703   8331.766496   6140.723920   7749.549828  8.507766e+04   \n",
      "7    7544.862882   7793.885537   5938.289460   6425.859074  7.219623e+04   \n",
      "8    9344.175670  10050.679368   7214.797196   7543.671911  1.626744e+04   \n",
      "9    7285.324121   9596.016557   6777.145478   9344.175670  1.789394e+04   \n",
      "10  10786.322603  11703.705891   7227.528719   7284.391389  3.877395e+03   \n",
      "11  12094.230644  12095.096221   8295.440081  10786.412945  2.215348e+03   \n",
      "12  13897.860153  17542.149522  11391.965826  12094.230644  1.002040e+01   \n",
      "13  10593.321408  21802.203116   9402.665487  13897.860153  1.903785e+01   \n",
      "14   6090.005966  10915.676985   6088.066540  10593.321408  4.697465e+01   \n",
      "15   4047.510784   6095.804443   4009.767445   6090.003488  1.832498e+05   \n",
      "16   4518.290224   4905.511339   2552.166385   4053.629293  1.707980e+06   \n",
      "17   2880.058843   4572.601796   2666.959369   4525.121228  1.932399e+06   \n",
      "18   2648.912742   2906.112187   1915.215629   2876.495231  1.368531e+06   \n",
      "19   2352.933452   3094.300712   2352.933452   2649.813457  1.469202e+06   \n",
      "20   1165.762948   2772.671693   1165.762948   2350.609426  1.697430e+06   \n",
      "21    997.640400   1166.449464    991.654657   1166.449464  5.827028e+05   \n",
      "22   1155.161779   1239.312149    902.259705    998.371609  9.684288e+05   \n",
      "23    971.201031   1174.157336    920.453498   1156.886296  1.703943e+06   \n",
      "24    984.495350   1285.839448    712.810164    973.776011  6.993741e+07   \n",
      "25    758.694016   1000.279720    758.647019    985.375873  1.109664e+08   \n",
      "26    710.253942    787.734458    673.376114    758.585915  9.864021e+07   \n",
      "27    611.293470    729.050046    609.070535    708.495168  4.540507e+07   \n",
      "28    577.026774    628.433731    571.402676    611.452738  1.790472e+07   \n",
      "29    623.055228    627.798427    498.241698    576.841786  1.693859e+07   \n",
      "30    676.691014    711.553189    611.889730    623.143281  1.766601e+07   \n",
      "31    544.036485    782.927546    535.603684    677.362155  1.705758e+07   \n",
      "32    446.638202    601.987272    440.795074    543.476637  1.134309e+07   \n",
      "33    417.554391    466.263255    409.746183    446.639958  1.011533e+07   \n",
      "34    446.342333    447.015835    400.471155    417.966114  1.135713e+07   \n",
      "35    375.907198    458.070814    374.697342    446.689322  1.025456e+07   \n",
      "36    434.032647    463.882017    358.855062    374.760080  1.128209e+07   \n",
      "37    384.739912    484.019131    350.448689    434.114691  1.222104e+07   \n",
      "38    343.261634    523.816540    294.877394    385.125194  6.981194e+06   \n",
      "39    240.066385    360.344373    239.952757    343.122582  2.478305e+07   \n",
      "40    230.270602    246.600215    226.256099    240.079194  9.969180e+06   \n",
      "41    283.310074    285.146862    202.333882    230.182825  1.029708e+07   \n",
      "42    263.888661    325.553558    251.544411    283.417976  8.388822e+06   \n",
      "43    232.285765    269.468938    222.116615    263.771459  6.432271e+06   \n",
      "44    234.777616    248.587690    228.750715    232.190967  9.364811e+06   \n",
      "45    244.459610    262.899820    210.731967    234.938527  1.359799e+07   \n",
      "46    255.910980    301.020188    234.048218    244.476707  1.497063e+07   \n",
      "47    215.928193    266.998979    210.379220    256.006787  1.165872e+07   \n",
      "48    318.348281    318.348281    158.345448    216.586397  1.764459e+07   \n",
      "49    377.647613    386.415953    304.073994    318.301752  1.204496e+07   \n",
      "50    338.202128    481.407367    320.045850    377.156278  1.791900e+07   \n",
      "51    388.103269    407.108778    298.567386    338.289088  1.138959e+07   \n",
      "52    477.856543    492.965983    372.443514    387.921070  4.662851e+06   \n",
      "53    584.048363    604.626102    450.242034    477.706592  4.721144e+06   \n",
      "54    642.982628    658.520857    562.944542    583.169163  2.654379e+06   \n",
      "55    629.174830    671.014524    558.138616    642.065851  1.345782e+06   \n",
      "56    447.974633    627.502812    415.038164    627.089327  1.626958e+05   \n",
      "\n",
      "    market cap (USD)  \n",
      "0       3.088536e+08  \n",
      "1       2.527923e+08  \n",
      "2       2.105416e+08  \n",
      "3       7.465401e+08  \n",
      "4       7.672393e+08  \n",
      "5       8.145189e+08  \n",
      "6       6.008830e+08  \n",
      "7       4.736636e+08  \n",
      "8       1.378357e+08  \n",
      "9       1.459583e+08  \n",
      "10      3.603364e+07  \n",
      "11      2.210397e+07  \n",
      "12      1.564711e+05  \n",
      "13      2.922043e+05  \n",
      "14      3.496514e+05  \n",
      "15      9.194540e+08  \n",
      "16      6.320565e+09  \n",
      "17      7.489367e+09  \n",
      "18      3.502867e+09  \n",
      "19      4.064188e+09  \n",
      "20      3.059054e+09  \n",
      "21      6.189579e+08  \n",
      "22      1.054549e+09  \n",
      "23      1.774488e+09  \n",
      "24      6.696607e+10  \n",
      "25      9.496223e+10  \n",
      "26      7.245478e+10  \n",
      "27      3.047834e+10  \n",
      "28      1.084603e+10  \n",
      "29      9.787944e+09  \n",
      "30      1.171711e+10  \n",
      "31      1.111774e+10  \n",
      "32      5.409449e+09  \n",
      "33      4.400933e+09  \n",
      "34      4.771011e+09  \n",
      "35      4.265443e+09  \n",
      "36      4.658856e+09  \n",
      "37      5.347417e+09  \n",
      "38      2.522811e+09  \n",
      "39      7.044801e+09  \n",
      "40      2.362196e+09  \n",
      "41      2.518898e+09  \n",
      "42      2.361878e+09  \n",
      "43      1.561580e+09  \n",
      "44      2.231580e+09  \n",
      "45      3.200474e+09  \n",
      "46      4.026354e+09  \n",
      "47      2.737620e+09  \n",
      "48      4.212934e+09  \n",
      "49      4.112748e+09  \n",
      "50      6.741057e+09  \n",
      "51      4.117266e+09  \n",
      "52      2.003770e+09  \n",
      "53      2.468445e+09  \n",
      "54      1.626899e+09  \n",
      "55      8.193192e+08  \n",
      "56      8.720770e+07  \n"
     ]
    }
   ],
   "source": [
    "df1 = pd.read_csv(url)\n",
    "print(df1)"
   ]
  },
  {
   "cell_type": "code",
   "execution_count": null,
   "metadata": {},
   "outputs": [],
   "source": [
    "https://www.alphavantage.co/query?function=TIME_SERIES_DAILY_ADJUSTED&symbol=.IXIC&apikey=D6YWTVPRSE9RQ4XC&datatype=csv"
   ]
  },
  {
   "cell_type": "code",
   "execution_count": null,
   "metadata": {},
   "outputs": [],
   "source": [
    "# Stocks tickers\n",
    "stick_index_tickers = [\"INX\", \"DJI\", \".IXIC\"]"
   ]
  },
  {
   "cell_type": "code",
   "execution_count": null,
   "metadata": {},
   "outputs": [],
   "source": [
    "# pulling Stocks raw data\n",
    "\n",
    "for i in stick_index_tickers:\n",
    "    url_stock = f\"https://www.alphavantage.co/query?function=DIGITAL_CURRENCY_DAILY&symbol={i}&market=USD&apikey={api_key}&datatype=csv\"\n",
    "    df = pd.read_csv(url_stock)\n",
    "    df.to_csv('example1.csv')"
   ]
  },
  {
   "cell_type": "code",
   "execution_count": null,
   "metadata": {},
   "outputs": [],
   "source": []
  }
 ],
 "metadata": {
  "anaconda-cloud": {},
  "kernelspec": {
   "display_name": "Python 3",
   "language": "python",
   "name": "python3"
  },
  "language_info": {
   "codemirror_mode": {
    "name": "ipython",
    "version": 3
   },
   "file_extension": ".py",
   "mimetype": "text/x-python",
   "name": "python",
   "nbconvert_exporter": "python",
   "pygments_lexer": "ipython3",
   "version": "3.6.5"
  }
 },
 "nbformat": 4,
 "nbformat_minor": 1
}
